{
 "cells": [
  {
   "cell_type": "code",
   "execution_count": 1,
   "metadata": {},
   "outputs": [],
   "source": [
    "import sys               # for 'max' and 'min' integer values\n",
    "import csv               # 'csv' is a python ibrary/framework/module\n",
    "from pathlib import Path # Import the pathlib "
   ]
  },
  {
   "cell_type": "code",
   "execution_count": 2,
   "metadata": {},
   "outputs": [],
   "source": [
    "# OPEN CSV FILE IN READ MODE (i.e. 'r')\n",
    "csv_path = Path(\"./budget_data.csv\") # Set the file path\n",
    "with open(csv_path, 'r') as csv_file:\n",
    "    # Pass in the csv file to the csv.reader() function\n",
    "    # (with ',' as the delmiter/separator) and return the csvreader object\n",
    "    csv_reader = csv.reader(csv_file, delimiter=',')\n",
    "    \n",
    "    # Read the header row first (skip this step if there is no header)\n",
    "    csv_header = next(csv_reader)\n",
    "    \n",
    "    # PRINT THE HEADER\n",
    "    #print(csv_header)\n",
    "    \n",
    "    # Append the column 'Change' to the header\n",
    "    csv_header.append(\"CHANGE\")\n",
    "    budget_record = []\n",
    "    budget_record.append(csv_header)\n",
    "    \n",
    "    # Read each row of data after the header\n",
    "    num_months = -1;\n",
    "    max_change = -sys.maxsize - 1\n",
    "    max_month = \"\"\n",
    "    min_change = sys.maxsize\n",
    "    min_month = \"\"\n",
    "    total_p_or_l = 0\n",
    "    total_change = 0\n",
    "    for current_row in csv_reader:\n",
    "        #print(current_row)\n",
    "        num_months += 1;         \n",
    "        # GATHER CURRENT ROW INFORMATION FOR PROCESSING\n",
    "        current_date = current_row[0]\n",
    "        current_p_or_l = int(current_row[1])\n",
    "        total_p_or_l += current_p_or_l\n",
    "        prev_p_or_l = 0\n",
    "        if num_months == 0 :\n",
    "            # We are in the first row, so there is no prev_row record.\n",
    "            # So there is no previous row profit or low. So we initialize previous row\n",
    "            # profit or loss as same as current row profit or loss. This way later when\n",
    "            # calculating the 'change' we get zero.\n",
    "            prev_p_or_l = int(current_row[1])\n",
    "        else :\n",
    "            # We are saved previous row in the last run of this for-loop. So here gather\n",
    "            # the previous row's profil and loss in order to calculate the change in\n",
    "            # current row.\n",
    "            prev_p_or_l = int(prev_row[1])\n",
    "\n",
    "        # CALCULATE 'change' IN CURRENT ROW (USING THE VALUE GATHERED FROM PREVIOUS ROW)\n",
    "        current_p_or_l = int(current_row[1], 10)\n",
    "        change = current_p_or_l - prev_p_or_l\n",
    "        total_change += change\n",
    "        \n",
    "        # CALCULATE 'max' and 'min' CHANGE\n",
    "        if change < min_change :\n",
    "            min_change = change\n",
    "            min_month = current_row[0]\n",
    "        if change > max_change :\n",
    "            max_change = change\n",
    "            max_month = current_row[0]\n",
    "        \n",
    "        # APPEND NEWLY CALCULATED CHANGE TO THE CURRENT ROW\n",
    "        current_row.append(change)\n",
    "        # Append the row to the list of records\n",
    "        budget_record.append(current_row)\n",
    "        \n",
    "        # Initialize prev_row for the next run in the for-loop\n",
    "        prev_row = current_row"
   ]
  },
  {
   "cell_type": "code",
   "execution_count": 3,
   "metadata": {},
   "outputs": [],
   "source": [
    "# WRITE To ANALYSIS FILE\n",
    "# At this point we have the following\n",
    "# - Number of Months in the variable 'num_months'\n",
    "# - Max change in the variable 'max_change'\n",
    "# - Min change in the variable 'min_change'\n",
    "# - Total profit and loss in the variable 'total_p_or_l'\n",
    "# - Average profit and loss (do not include first month)\n",
    "\n",
    "# OPEN THE OUTPUT FILE IN WRITE MODE (i.e. pass 'w')\n",
    "with open(\"analysis.txt\", 'w') as output_analysis_file:\n",
    "    output_analysis_file.write(\"Financial Analysis\\n\")\n",
    "    output_analysis_file.write(\"----------------------------\\n\")\n",
    "    num_months += 1\n",
    "    output_analysis_file.write(\"Total Months : \" + str(num_months) + \"\\n\")\n",
    "    output_analysis_file.write(\"Total : $\" + str(total_p_or_l) + \"\\n\")\n",
    "    output_analysis_file.write(\"Average  Change : $\" + str(round(total_change/(num_months-1),2)) + \"\\n\")\n",
    "    output_analysis_file.write(\"Greatest Increase in Profits: \" + str(max_month) + \" ($\" + str(round(max_change)) + \")\\n\")\n",
    "    output_analysis_file.write(\"Greatest Decrease in Profits: \" + str(min_month) + \" ($\" + str(round(min_change)) + \")\\n\")"
   ]
  },
  {
   "cell_type": "code",
   "execution_count": 4,
   "metadata": {},
   "outputs": [],
   "source": [
    "# OUTPUT BUDGET FILE\n",
    "output_file = Path(\"output.csv\")\n",
    "with open(output_file, 'w') as csv_output_file:\n",
    "    csv_writer = csv.writer(csv_output_file, delimiter=',')\n",
    "    # Loop through the list of budget_record and write every record to the\n",
    "    # output csv file\n",
    "    for record in budget_record:\n",
    "        csv_writer.writerow(record)"
   ]
  },
  {
   "cell_type": "code",
   "execution_count": null,
   "metadata": {},
   "outputs": [],
   "source": []
  },
  {
   "cell_type": "code",
   "execution_count": null,
   "metadata": {},
   "outputs": [],
   "source": []
  },
  {
   "cell_type": "code",
   "execution_count": null,
   "metadata": {},
   "outputs": [],
   "source": []
  }
 ],
 "metadata": {
  "kernelspec": {
   "display_name": "Python 3",
   "language": "python",
   "name": "python3"
  },
  "language_info": {
   "codemirror_mode": {
    "name": "ipython",
    "version": 3
   },
   "file_extension": ".py",
   "mimetype": "text/x-python",
   "name": "python",
   "nbconvert_exporter": "python",
   "pygments_lexer": "ipython3",
   "version": "3.8.2"
  }
 },
 "nbformat": 4,
 "nbformat_minor": 4
}
