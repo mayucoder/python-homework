{
 "cells": [
  {
   "cell_type": "code",
   "execution_count": 92,
   "metadata": {},
   "outputs": [],
   "source": [
    "import csv \n",
    "from pathlib import Path"
   ]
  },
  {
   "cell_type": "code",
   "execution_count": 93,
   "metadata": {},
   "outputs": [],
   "source": [
    "# CREATE A DATABASE OF MENU ITEMS (it's basically a DICTIONARY data structure)\n",
    "# DATA MODEL IS AS BELOW\n",
    "#     {KEY, VALUE} --> {item, [price, cost]}\n",
    "ITEM_DATABASE = {}\n",
    "\n",
    "# CREATE A DATABASE FOR FINAL OUTPUT\n",
    "# DATA MODEL IS AS BELOW\n",
    "#     {KEY, VALUE} --> {item, [quantity, revenue, cogs, profit]}\n",
    "REPORT = {}"
   ]
  },
  {
   "cell_type": "code",
   "execution_count": 94,
   "metadata": {},
   "outputs": [
    {
     "name": "stdout",
     "output_type": "stream",
     "text": [
      "{'item': ['price', 'cost'], 'edamame': ['4', '1'], 'house salad': ['4', '2'], 'cucumber sunomono salad': ['5', '2'], 'hiyashi wakame seaweed salad': ['5', '2'], 'agedashi tofu': ['5', '2'], 'hiyayakko tofu': ['5', '2'], 'pork floss bao': ['4', '2'], 'kakuni bao': ['6', '3'], 'edamame fried gyoza (vegan)': ['6', '3'], 'fried gyoza': ['6', '6'], 'takoyaki': ['6', '3'], 'rock shrimp tempura': ['6', '3'], 'soft-shell crab tempura': ['6', '3'], 'ebi katsu shrimp bao': ['6', '3'], 'nagomi shoyu': ['11', '5'], 'shio ramen': ['11', '5'], 'spicy miso ramen': ['12', '5'], 'vegetarian spicy miso': ['12', '5'], 'miso crab ramen': ['12', '6'], 'soft-shell miso crab ramen': ['14', '7'], 'tori paitan ramen': ['13', '6'], 'tonkotsu ramen': ['13', '6'], 'burnt garlic tonkotsu ramen': ['14', '6'], 'vegetarian curry + king trumpet mushroom ramen': ['13', '7'], 'truffle butter ramen': ['14', '7'], 'green tea': ['2.5', '1'], 'coke': ['2', '1'], 'black sesame ice cream': ['5', '2'], 'matcha ice cream': ['5', '2'], 'mango mochi ice cream': ['5', '2'], 'strawberry mochi ice cream': ['5', '2'], 'black sesame creme brulee': ['6', '3']}\n"
     ]
    }
   ],
   "source": [
    "# PROCESS 'menu_data.csv' FILE\n",
    "filepath_menu = Path(\"./menu_data.csv\")\n",
    "with open(filepath_menu, \"r\") as menu_csv_file:\n",
    "    menu_csv_reader = csv.reader(menu_csv_file, delimiter=\",\")\n",
    "    for current_row in menu_csv_reader:\n",
    "        item_name = current_row[0]\n",
    "        item_price = current_row[3]\n",
    "        item_cost = current_row[4]\n",
    "        # Insert this into the our database\n",
    "        ITEM_DATABASE[item_name] = [item_price, item_cost]\n",
    "print(ITEM_DATABASE)"
   ]
  },
  {
   "cell_type": "code",
   "execution_count": 118,
   "metadata": {},
   "outputs": [],
   "source": [
    "# PROCESS 'sales_data.csv' FILE\n",
    "filepath_sales = Path(\"./sales_data.csv\")\n",
    "with open(filepath_sales, \"r\") as sales_csv_file:\n",
    "    sales_csv_reader = csv.reader(sales_csv_file, delimiter=\",\")\n",
    "    \n",
    "    # Read the header row first (skip this step if there is no header)\n",
    "    csv_header = next(sales_csv_reader)\n",
    "    \n",
    "    num_txs = 0\n",
    "    REPORT = {}\n",
    "    for current_row in sales_csv_reader:   \n",
    "        num_txs += 1\n",
    "        tx_item_quantity = int(current_row[3])\n",
    "        tx_item_name = current_row[4]\n",
    "        #print(\"TX: item = \" + str(tx_item_name) + \" quantity = \" + str(tx_item_quantity) + \"\\n\")\n",
    "        \n",
    "        menu_item = ITEM_DATABASE[tx_item_name]\n",
    "        item_price = int(menu_item[0])\n",
    "        item_cost = int(menu_item[1])\n",
    "        \n",
    "        if tx_item_name in REPORT:\n",
    "            #print (\"Item present\\n\")\n",
    "            # item already present in our database\n",
    "            item_quantity = int(REPORT[tx_item_name][0])\n",
    "            item_quantity += tx_item_quantity\n",
    "        else :\n",
    "            # item not present in our database, so add it\n",
    "            #print (\"Item NOT present\\n\")\n",
    "            item_quantity = tx_item_quantity\n",
    "            \n",
    "        item_revenue = (item_quantity * item_price)\n",
    "        item_cogs = (item_quantity * item_cost)\n",
    "        item_profit = (item_revenue - item_cogs)\n",
    "        REPORT[tx_item_name] = []\n",
    "        REPORT[tx_item_name] = [item_quantity, item_revenue, item_cogs, item_profit]"
   ]
  },
  {
   "cell_type": "code",
   "execution_count": 126,
   "metadata": {},
   "outputs": [],
   "source": [
    "# OPEN THE OUTPUT FILE IN WRITE MODE (i.e. pass 'w')\n",
    "with open(\"report.txt\", 'w') as output_report_file:\n",
    "    #print(REPORT)\n",
    "    for entry in REPORT:\n",
    "        item_count = REPORT[entry][0]\n",
    "        item_revenue = round(REPORT[entry][1],1)\n",
    "        item_cogs = round(REPORT[entry][2],1)\n",
    "        item_profit = round(REPORT[entry][3],1)\n",
    "        #spicy miso ramen {'01-count': 9238, '02-revenue': 110856.0, '03-cogs': 46190.0, '04-profit': 64666.0}\n",
    "        print_string = entry + \" {'01-count': \" + str(item_count)+ \", '02-revenue': \" + str(item_revenue) + \", '03-cogs': \" + str(item_cogs) + \", 04-profit': \" + str(item_profit) + \"}\\n\"\n",
    "        output_report_file.write(print_string)"
   ]
  },
  {
   "cell_type": "code",
   "execution_count": null,
   "metadata": {},
   "outputs": [],
   "source": []
  }
 ],
 "metadata": {
  "kernelspec": {
   "display_name": "Python 3",
   "language": "python",
   "name": "python3"
  },
  "language_info": {
   "codemirror_mode": {
    "name": "ipython",
    "version": 3
   },
   "file_extension": ".py",
   "mimetype": "text/x-python",
   "name": "python",
   "nbconvert_exporter": "python",
   "pygments_lexer": "ipython3",
   "version": "3.8.2"
  }
 },
 "nbformat": 4,
 "nbformat_minor": 4
}
